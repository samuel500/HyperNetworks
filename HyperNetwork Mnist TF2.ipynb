{
 "cells": [
  {
   "cell_type": "code",
   "execution_count": 1,
   "metadata": {},
   "outputs": [],
   "source": [
    "%matplotlib inline\n",
    "\n",
    "import tensorflow as tf\n",
    "from time import time\n",
    "import numpy as np\n",
    "\n",
    "from tensorflow.keras.layers import Dense, Flatten, Conv2D, InputLayer, Layer, MaxPool2D, AveragePooling2D,\\\n",
    "    BatchNormalization, Dropout, ReLU, LeakyReLU, Activation\n",
    "from tensorflow.keras import Model\n",
    "import matplotlib.pyplot as plt\n",
    "\n",
    "from tqdm import tqdm\n",
    "\n"
   ]
  },
  {
   "cell_type": "code",
   "execution_count": 2,
   "metadata": {},
   "outputs": [
    {
     "name": "stdout",
     "output_type": "stream",
     "text": [
      "(60000, 28, 28) train samples\n",
      "10000 test samples\n"
     ]
    }
   ],
   "source": [
    "mnist = tf.keras.datasets.mnist\n",
    "(x_train, y_train), (x_test, y_test) = mnist.load_data()\n",
    "print(x_train.shape, 'train samples')\n",
    "print(x_test.shape[0], 'test samples')\n",
    "\n",
    "\n",
    "x_train, x_test = x_train / 255.0, x_test / 255.0\n",
    "\n",
    "# Add a channels dimension\n",
    "x_train = x_train[..., tf.newaxis]\n",
    "x_test = x_test[..., tf.newaxis]"
   ]
  },
  {
   "cell_type": "code",
   "execution_count": 3,
   "metadata": {},
   "outputs": [],
   "source": [
    "train_ds = tf.data.Dataset.from_tensor_slices((x_train, y_train)).shuffle(10000).batch(128)\n",
    "\n",
    "test_ds = tf.data.Dataset.from_tensor_slices((x_test, y_test)).batch(1024)\n",
    "\n",
    "\n",
    "\n",
    "cross_entropy = tf.keras.losses.SparseCategoricalCrossentropy()\n",
    "\n",
    "\n",
    "train_loss = tf.keras.metrics.Mean(name='train_loss')\n",
    "train_accuracy = tf.keras.metrics.SparseCategoricalAccuracy(name='train_accuracy')\n",
    "\n",
    "test_loss = tf.keras.metrics.Mean(name='test_loss')\n",
    "test_accuracy = tf.keras.metrics.SparseCategoricalAccuracy(name='test_accuracy')"
   ]
  },
  {
   "cell_type": "code",
   "execution_count": 4,
   "metadata": {},
   "outputs": [],
   "source": [
    "class MNIST(Model):\n",
    "\n",
    "    def __init__(self, f_size=7, in_size=16, out_size=16, z_dim=4, **kwargs):\n",
    "        super().__init__(**kwargs)\n",
    "        \n",
    "        self.f_size = f_size\n",
    "        self.in_size = in_size\n",
    "        self.out_size = out_size\n",
    "        self.z_dim = z_dim\n",
    "        \n",
    "        init = tf.keras.initializers.TruncatedNormal(stddev=0.01)\n",
    "        \n",
    "        self.conv1_weights = self.add_weight('conv1', shape=(f_size, f_size, 1, out_size), \n",
    "                                             initializer=init)\n",
    "        self.conv1_biases = self.add_weight('bias1', shape=(out_size), initializer=tf.zeros_initializer())\n",
    "        \n",
    "        # hypernetwork\n",
    "        self.z = self.add_weight('z', shape=(1, z_dim), initializer=init)\n",
    "        self.w1 = self.add_weight('w1', shape=(z_dim, out_size*f_size*f_size), initializer=init)\n",
    "        self.b1 = self.add_weight('b1', shape=(out_size*f_size*f_size), initializer=tf.zeros_initializer())\n",
    "        self.w2 = self.add_weight('w2', shape=(z_dim, in_size*z_dim), initializer=init)\n",
    "        self.b2 = self.add_weight('b2', shape=(in_size*z_dim), initializer=tf.zeros_initializer())\n",
    "        \n",
    "        self.conv2_biases = self.add_weight('bias2', shape=(out_size), initializer=tf.zeros_initializer())\n",
    "        \n",
    "        \n",
    "        self.dense = self.add_weight('d', shape=(784, 10), initializer=tf.keras.initializers.Orthogonal())\n",
    "        self.dense_biases = self.add_weight('db', shape=(10), initializer=tf.zeros_initializer())\n",
    "        \n",
    "        \n",
    "\n",
    "    def call(self, x, **kwargs):\n",
    "        \n",
    "        h_in = tf.matmul(self.z, self.w2) + self.b2\n",
    "        h_in = tf.reshape(h_in, (self.in_size, self.z_dim))\n",
    "        h_final = tf.matmul(h_in, self.w1) + self.b1\n",
    "        kernel2 = tf.reshape(h_final, (self.out_size, self.in_size, self.f_size, self.f_size))\n",
    "        conv2_weights = tf.transpose(kernel2)\n",
    "\n",
    "        x = tf.nn.conv2d(x, self.conv1_weights, strides=[1,1,1,1], padding='SAME')\n",
    "        x = tf.nn.relu(x+self.conv1_biases)\n",
    "        x = tf.nn.max_pool(x, ksize=[1, 2, 2, 1], strides=[1, 2, 2, 1], padding='VALID')\n",
    "        \n",
    "        x = tf.nn.conv2d(x, conv2_weights, strides=[1, 1, 1, 1], padding='SAME')\n",
    "        x = tf.nn.relu(x+self.conv2_biases)\n",
    "        x = tf.nn.max_pool(x, ksize=[1, 2, 2, 1], strides=[1, 2, 2, 1], padding='VALID')\n",
    "        \n",
    "        x = tf.reshape(x, (-1, np.prod(x.shape[1:])))\n",
    "        x = tf.keras.backend.dot(x, self.dense) + self.dense_biases\n",
    "        \n",
    "        x = tf.nn.softmax(x)\n",
    "        \n",
    "        return x\n"
   ]
  },
  {
   "cell_type": "code",
   "execution_count": null,
   "metadata": {},
   "outputs": [],
   "source": []
  },
  {
   "cell_type": "code",
   "execution_count": null,
   "metadata": {},
   "outputs": [],
   "source": []
  },
  {
   "cell_type": "code",
   "execution_count": 11,
   "metadata": {},
   "outputs": [],
   "source": [
    "# @tf.function\n",
    "def train_step(images, labels, optimizer, trainable_variables):\n",
    "    with tf.GradientTape() as tape:\n",
    "        predictions = model(images, training=True)\n",
    "\n",
    "        loss = cross_entropy(labels, predictions)\n",
    "\n",
    "\n",
    "    gradients = tape.gradient(loss, trainable_variables)\n",
    "    optimizer.apply_gradients(zip(gradients, trainable_variables))\n",
    "\n",
    "    train_loss(loss)\n",
    "    train_accuracy(labels, predictions)\n",
    "\n",
    "\n",
    "\n",
    "# @tf.function\n",
    "def test_step(images, labels):\n",
    "    predictions = model(images, training=False)\n",
    "    t_loss = cross_entropy(labels, predictions)\n",
    "\n",
    "    test_loss(t_loss)\n",
    "    test_accuracy(labels, predictions)"
   ]
  },
  {
   "cell_type": "code",
   "execution_count": 6,
   "metadata": {},
   "outputs": [],
   "source": [
    "optimizer = tf.keras.optimizers.Adam(5e-3)\n",
    "\n",
    "EPOCHS = 1000"
   ]
  },
  {
   "cell_type": "code",
   "execution_count": 7,
   "metadata": {},
   "outputs": [],
   "source": [
    "model = MNIST()"
   ]
  },
  {
   "cell_type": "code",
   "execution_count": null,
   "metadata": {},
   "outputs": [
    {
     "name": "stderr",
     "output_type": "stream",
     "text": [
      " 93%|█████████▎| 435/469 [00:39<00:03, 10.87it/s]"
     ]
    }
   ],
   "source": [
    "for epoch in range(EPOCHS):\n",
    "\n",
    "    st = time()\n",
    "\n",
    "    for i, (images, labels) in enumerate(tqdm(train_ds)):\n",
    "        # print('im,', images[0].shape)\n",
    "        train_step(images, labels, optimizer, model.trainable_variables)\n",
    "\n",
    "\n",
    "    for test_images, test_labels in test_ds:\n",
    "        test_step(test_images, test_labels)\n",
    "\n",
    "\n",
    "    template = 'Epoch {}, Loss: {}, Accuracy: {}, Test Loss: {}, Test Accuracy: {}'\n",
    "    print(template.format(epoch+1,\n",
    "            round(float(train_loss.result()), 4),\n",
    "            round(float(train_accuracy.result()*100), 3),\n",
    "            round(float(test_loss.result()), 4),\n",
    "            round(float(test_accuracy.result()*100), 2)))\n",
    "\n",
    "    # Reset the metrics for the next epoch\n",
    "    train_loss.reset_states()\n",
    "    train_accuracy.reset_states()\n",
    "    test_loss.reset_states()\n",
    "    test_accuracy.reset_states()\n",
    "\n",
    "    print('T:', time()-st)"
   ]
  },
  {
   "cell_type": "code",
   "execution_count": null,
   "metadata": {},
   "outputs": [],
   "source": []
  }
 ],
 "metadata": {
  "kernelspec": {
   "display_name": "Python 3",
   "language": "python",
   "name": "python3"
  },
  "language_info": {
   "codemirror_mode": {
    "name": "ipython",
    "version": 3
   },
   "file_extension": ".py",
   "mimetype": "text/x-python",
   "name": "python",
   "nbconvert_exporter": "python",
   "pygments_lexer": "ipython3",
   "version": "3.8.5"
  }
 },
 "nbformat": 4,
 "nbformat_minor": 4
}
